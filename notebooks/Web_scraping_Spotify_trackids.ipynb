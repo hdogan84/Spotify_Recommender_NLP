{
 "cells": [
  {
   "cell_type": "code",
   "execution_count": 40,
   "metadata": {},
   "outputs": [],
   "source": [
    "from bs4 import BeautifulSoup as bs\n",
    "import requests \n",
    "import pandas as pd\n",
    "from urllib.parse import urljoin"
   ]
  },
  {
   "cell_type": "code",
   "execution_count": 53,
   "metadata": {},
   "outputs": [
    {
     "data": {
      "text/html": [
       "<div>\n",
       "<style scoped>\n",
       "    .dataframe tbody tr th:only-of-type {\n",
       "        vertical-align: middle;\n",
       "    }\n",
       "\n",
       "    .dataframe tbody tr th {\n",
       "        vertical-align: top;\n",
       "    }\n",
       "\n",
       "    .dataframe thead th {\n",
       "        text-align: right;\n",
       "    }\n",
       "</style>\n",
       "<table border=\"1\" class=\"dataframe\">\n",
       "  <thead>\n",
       "    <tr style=\"text-align: right;\">\n",
       "      <th></th>\n",
       "      <th>Unnamed: 0.1</th>\n",
       "      <th>Unnamed: 0</th>\n",
       "      <th>Artist</th>\n",
       "      <th>url_songs</th>\n",
       "      <th>Num songs</th>\n",
       "    </tr>\n",
       "  </thead>\n",
       "  <tbody>\n",
       "    <tr>\n",
       "      <th>0</th>\n",
       "      <td>0</td>\n",
       "      <td>0</td>\n",
       "      <td>Drake</td>\n",
       "      <td>https://kworb.net/spotify/artist/3TVXtAsR1Inum...</td>\n",
       "      <td>482.0</td>\n",
       "    </tr>\n",
       "    <tr>\n",
       "      <th>1</th>\n",
       "      <td>1</td>\n",
       "      <td>1</td>\n",
       "      <td>Taylor Swift</td>\n",
       "      <td>https://kworb.net/spotify/artist/06HL4z0CvFAxy...</td>\n",
       "      <td>497.0</td>\n",
       "    </tr>\n",
       "  </tbody>\n",
       "</table>\n",
       "</div>"
      ],
      "text/plain": [
       "   Unnamed: 0.1  Unnamed: 0        Artist  \\\n",
       "0             0           0         Drake   \n",
       "1             1           1  Taylor Swift   \n",
       "\n",
       "                                           url_songs  Num songs  \n",
       "0  https://kworb.net/spotify/artist/3TVXtAsR1Inum...      482.0  \n",
       "1  https://kworb.net/spotify/artist/06HL4z0CvFAxy...      497.0  "
      ]
     },
     "execution_count": 53,
     "metadata": {},
     "output_type": "execute_result"
    }
   ],
   "source": [
    "df_artists = pd.read_csv(\"../data/spotify_top_3000_artists_with_song_counts.csv\", sep= ',')\n",
    "df_artists.head(2)"
   ]
  },
  {
   "cell_type": "code",
   "execution_count": 54,
   "metadata": {},
   "outputs": [],
   "source": [
    "df_artists = df_artists[df_artists[\"Num songs\"]>0]"
   ]
  },
  {
   "cell_type": "code",
   "execution_count": 57,
   "metadata": {},
   "outputs": [],
   "source": [
    "df_artists = df_artists.reset_index(drop=True)"
   ]
  },
  {
   "cell_type": "markdown",
   "metadata": {},
   "source": [
    "WRITE A FUNCTION To SCRAPE EACH URL FOR EACH ARTIST"
   ]
  },
  {
   "cell_type": "code",
   "execution_count": 42,
   "metadata": {},
   "outputs": [],
   "source": [
    "def scrape_songs_url(url_song):\n",
    "    page = requests.get(url_song)\n",
    "    soup = bs(page.content)\n",
    "    tags = soup.find_all(True)\n",
    "    not_found_tag = [i for i, tag in enumerate(tags) if \"404 Not Found\" in tag.text]\n",
    "    if not_found_tag != []:\n",
    "        return 0, {}\n",
    "    possible_tag_numbers = [i for i, tag in enumerate(tags) if \"Song Title\" in tag.text]\n",
    "    tag_number = possible_tag_numbers[-4]\n",
    "    elem = tags[tag_number]\n",
    "    item = list(elem.children)[3]\n",
    "    song_tags = bs(str(item)).find_all(\"a\",  href=True)\n",
    "    song_count = len(song_tags)\n",
    "\n",
    "    song_spotify_id_dict = {}\n",
    "\n",
    "    for i, song_tag in enumerate(song_tags):\n",
    "        song_name = song_tag.text\n",
    "        song_spotify_url = song_tag[\"href\"]\n",
    "        spotify_track_id = song_spotify_url.split(\"/\")[-1]\n",
    "        song_spotify_id_dict[song_name] = spotify_track_id\n",
    "\n",
    "    ## There are duclicate entries for song names. Correct the song count\n",
    "    #song_count = len(song_spotify_id_dict)\n",
    "\n",
    "    return song_spotify_id_dict"
   ]
  },
  {
   "cell_type": "code",
   "execution_count": 55,
   "metadata": {},
   "outputs": [],
   "source": [
    "tracks_df = pd.DataFrame(columns=[\"Song_title\",\"Spotify_track_id\", \"Artist\"])"
   ]
  },
  {
   "cell_type": "code",
   "execution_count": 58,
   "metadata": {},
   "outputs": [
    {
     "name": "stdout",
     "output_type": "stream",
     "text": [
      "60.0 % done\n",
      "70.0 % done\n",
      "80.0 % done\n",
      "90.0 % done\n"
     ]
    }
   ],
   "source": [
    "for i in range(0, len(df_artists)):\n",
    "    track_ids = scrape_songs_url(df_artists.url_songs[i])\n",
    "\n",
    "    data_dict = {}\n",
    "    data_dict[\"Song_title\"] = list(track_ids.keys())\n",
    "    data_dict[\"Spotify_track_id\"] = list(track_ids.values())\n",
    "\n",
    "    sub_df = pd.DataFrame(data_dict)\n",
    "    sub_df[\"Artist\"] = df_artists.Artist[i]\n",
    "\n",
    "    tracks_df = pd.concat([tracks_df, sub_df])\n",
    "\n",
    "    \n",
    "    if i % 300 == 0:\n",
    "        print(f\"{i/3000*100} % done\")\n",
    "\n",
    "        \n",
    "    "
   ]
  },
  {
   "cell_type": "code",
   "execution_count": 59,
   "metadata": {},
   "outputs": [],
   "source": [
    "tracks_df = tracks_df.reset_index(drop=True)"
   ]
  },
  {
   "cell_type": "code",
   "execution_count": 60,
   "metadata": {},
   "outputs": [
    {
     "data": {
      "text/plain": [
       "513325"
      ]
     },
     "execution_count": 60,
     "metadata": {},
     "output_type": "execute_result"
    }
   ],
   "source": [
    "len(tracks_df)"
   ]
  },
  {
   "cell_type": "code",
   "execution_count": 63,
   "metadata": {},
   "outputs": [
    {
     "data": {
      "text/plain": [
       "379536"
      ]
     },
     "execution_count": 63,
     "metadata": {},
     "output_type": "execute_result"
    }
   ],
   "source": [
    "tracks_df.Song_title.nunique()"
   ]
  },
  {
   "cell_type": "code",
   "execution_count": 64,
   "metadata": {},
   "outputs": [
    {
     "data": {
      "text/plain": [
       "2998"
      ]
     },
     "execution_count": 64,
     "metadata": {},
     "output_type": "execute_result"
    }
   ],
   "source": [
    "tracks_df.Artist.nunique()"
   ]
  },
  {
   "cell_type": "code",
   "execution_count": 65,
   "metadata": {},
   "outputs": [
    {
     "data": {
      "text/plain": [
       "460890"
      ]
     },
     "execution_count": 65,
     "metadata": {},
     "output_type": "execute_result"
    }
   ],
   "source": [
    "tracks_df.Spotify_track_id.nunique()"
   ]
  },
  {
   "cell_type": "code",
   "execution_count": 66,
   "metadata": {},
   "outputs": [
    {
     "data": {
      "text/plain": [
       "513325"
      ]
     },
     "execution_count": 66,
     "metadata": {},
     "output_type": "execute_result"
    }
   ],
   "source": [
    "df_dub = tracks_df.drop_duplicates()\n",
    "len(df_dub)"
   ]
  },
  {
   "cell_type": "code",
   "execution_count": 61,
   "metadata": {},
   "outputs": [
    {
     "data": {
      "text/html": [
       "<div>\n",
       "<style scoped>\n",
       "    .dataframe tbody tr th:only-of-type {\n",
       "        vertical-align: middle;\n",
       "    }\n",
       "\n",
       "    .dataframe tbody tr th {\n",
       "        vertical-align: top;\n",
       "    }\n",
       "\n",
       "    .dataframe thead th {\n",
       "        text-align: right;\n",
       "    }\n",
       "</style>\n",
       "<table border=\"1\" class=\"dataframe\">\n",
       "  <thead>\n",
       "    <tr style=\"text-align: right;\">\n",
       "      <th></th>\n",
       "      <th>Song_title</th>\n",
       "      <th>Spotify_track_id</th>\n",
       "      <th>Artist</th>\n",
       "    </tr>\n",
       "  </thead>\n",
       "  <tbody>\n",
       "    <tr>\n",
       "      <th>410288</th>\n",
       "      <td>Bienvenidos a Jalisco</td>\n",
       "      <td>3UoM05HDtbGb1jw029Hox3</td>\n",
       "      <td>Grupo Arriesgado</td>\n",
       "    </tr>\n",
       "    <tr>\n",
       "      <th>490724</th>\n",
       "      <td>Creepin'</td>\n",
       "      <td>0G6bhqsZpxapSAoKLjHK86</td>\n",
       "      <td>Bootsy Collins</td>\n",
       "    </tr>\n",
       "    <tr>\n",
       "      <th>497345</th>\n",
       "      <td>Di Ujung Malam</td>\n",
       "      <td>33LlJCqwuyvSB78SYK8AWM</td>\n",
       "      <td>Payung Teduh</td>\n",
       "    </tr>\n",
       "    <tr>\n",
       "      <th>287053</th>\n",
       "      <td>Contigo</td>\n",
       "      <td>5ye0hEA5G6Zfhz2Ejx6NIo</td>\n",
       "      <td>Antonio Aguilar</td>\n",
       "    </tr>\n",
       "    <tr>\n",
       "      <th>227062</th>\n",
       "      <td>Vamo A Darle Lele</td>\n",
       "      <td>5E7tY6dPkEntmpRaH3rPsx</td>\n",
       "      <td>Guaynaa</td>\n",
       "    </tr>\n",
       "    <tr>\n",
       "      <th>250321</th>\n",
       "      <td>¿Qué Estoy Haciendo Aquí?</td>\n",
       "      <td>6sMK5NZtcziMoEwKXBlQOL</td>\n",
       "      <td>Joaquín Sabina</td>\n",
       "    </tr>\n",
       "    <tr>\n",
       "      <th>294424</th>\n",
       "      <td>Back To Black</td>\n",
       "      <td>44Z41mjp6AgW2NaXD0OIaP</td>\n",
       "      <td>BENEE</td>\n",
       "    </tr>\n",
       "    <tr>\n",
       "      <th>312082</th>\n",
       "      <td>Nee Kougililo</td>\n",
       "      <td>4GXLCERrKB4lEiaFXyEC0m</td>\n",
       "      <td>S. P. Balasubrahmanyam</td>\n",
       "    </tr>\n",
       "    <tr>\n",
       "      <th>129664</th>\n",
       "      <td>Hard White (Up In The Club)</td>\n",
       "      <td>36Y4bI3yn16ZgNslzHc4nj</td>\n",
       "      <td>Lil Jon</td>\n",
       "    </tr>\n",
       "    <tr>\n",
       "      <th>114121</th>\n",
       "      <td>Kapitel 12: Mission Alex (Folge 92)</td>\n",
       "      <td>12EuYDq5RmJRQEkgir8Smm</td>\n",
       "      <td>Bibi und Tina</td>\n",
       "    </tr>\n",
       "  </tbody>\n",
       "</table>\n",
       "</div>"
      ],
      "text/plain": [
       "                                 Song_title        Spotify_track_id  \\\n",
       "410288                Bienvenidos a Jalisco  3UoM05HDtbGb1jw029Hox3   \n",
       "490724                             Creepin'  0G6bhqsZpxapSAoKLjHK86   \n",
       "497345                       Di Ujung Malam  33LlJCqwuyvSB78SYK8AWM   \n",
       "287053                              Contigo  5ye0hEA5G6Zfhz2Ejx6NIo   \n",
       "227062                    Vamo A Darle Lele  5E7tY6dPkEntmpRaH3rPsx   \n",
       "250321            ¿Qué Estoy Haciendo Aquí?  6sMK5NZtcziMoEwKXBlQOL   \n",
       "294424                        Back To Black  44Z41mjp6AgW2NaXD0OIaP   \n",
       "312082                        Nee Kougililo  4GXLCERrKB4lEiaFXyEC0m   \n",
       "129664          Hard White (Up In The Club)  36Y4bI3yn16ZgNslzHc4nj   \n",
       "114121  Kapitel 12: Mission Alex (Folge 92)  12EuYDq5RmJRQEkgir8Smm   \n",
       "\n",
       "                        Artist  \n",
       "410288        Grupo Arriesgado  \n",
       "490724          Bootsy Collins  \n",
       "497345            Payung Teduh  \n",
       "287053         Antonio Aguilar  \n",
       "227062                 Guaynaa  \n",
       "250321          Joaquín Sabina  \n",
       "294424                   BENEE  \n",
       "312082  S. P. Balasubrahmanyam  \n",
       "129664                 Lil Jon  \n",
       "114121           Bibi und Tina  "
      ]
     },
     "execution_count": 61,
     "metadata": {},
     "output_type": "execute_result"
    }
   ],
   "source": [
    "tracks_df.sample(10)"
   ]
  },
  {
   "cell_type": "code",
   "execution_count": 62,
   "metadata": {},
   "outputs": [],
   "source": [
    "tracks_df.to_csv(\"../data/spotify_track_ids.csv\")"
   ]
  },
  {
   "cell_type": "code",
   "execution_count": 68,
   "metadata": {},
   "outputs": [],
   "source": [
    "from langdetect import detect, DetectorFactory\n",
    "from langdetect.lang_detect_exception import LangDetectException\n",
    "\n",
    "# Ensure the results are consistent\n",
    "DetectorFactory.seed = 0\n",
    "\n",
    "def is_english(text):\n",
    "    try:\n",
    "        # Detect the language of the text\n",
    "        language = detect(text)\n",
    "        # Check if the detected language is English\n",
    "        return language == 'en'\n",
    "    except LangDetectException:\n",
    "        # If the text is too short or can't be detected, return False\n",
    "        return False"
   ]
  },
  {
   "cell_type": "code",
   "execution_count": 69,
   "metadata": {},
   "outputs": [],
   "source": [
    "tracks_df[\"is_english\"] = tracks_df[\"Song_title\"].apply(lambda x: is_english(x))"
   ]
  },
  {
   "cell_type": "code",
   "execution_count": null,
   "metadata": {},
   "outputs": [],
   "source": [
    "tracks_df.to_csv(\"..data/spotify_track_ids_english.csv\")"
   ]
  },
  {
   "cell_type": "code",
   "execution_count": null,
   "metadata": {},
   "outputs": [],
   "source": []
  },
  {
   "cell_type": "code",
   "execution_count": null,
   "metadata": {},
   "outputs": [],
   "source": []
  }
 ],
 "metadata": {
  "kernelspec": {
   "display_name": "clef",
   "language": "python",
   "name": "python3"
  },
  "language_info": {
   "codemirror_mode": {
    "name": "ipython",
    "version": 3
   },
   "file_extension": ".py",
   "mimetype": "text/x-python",
   "name": "python",
   "nbconvert_exporter": "python",
   "pygments_lexer": "ipython3",
   "version": "3.9.16"
  }
 },
 "nbformat": 4,
 "nbformat_minor": 2
}
