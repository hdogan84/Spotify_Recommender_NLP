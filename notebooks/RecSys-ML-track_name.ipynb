{
 "cells": [
  {
   "cell_type": "code",
   "execution_count": 1,
   "metadata": {},
   "outputs": [],
   "source": [
    "import numpy as np\n",
    "import pandas as pd"
   ]
  },
  {
   "cell_type": "code",
   "execution_count": 3,
   "metadata": {},
   "outputs": [],
   "source": [
    "from sklearn.feature_extraction.text import CountVectorizer\n",
    "from sklearn.feature_extraction.text import TfidfVectorizer"
   ]
  },
  {
   "cell_type": "code",
   "execution_count": 5,
   "metadata": {},
   "outputs": [],
   "source": [
    "df_kaggle = pd.read_csv(\"../data/music-dataset-1950-to-2019/tcc_ceds_music.csv\")\n",
    "columns = [\"artist_name\", \"track_name\", \"release_date\"]\n",
    "df_kaggle = df_kaggle[columns]"
   ]
  },
  {
   "cell_type": "code",
   "execution_count": 6,
   "metadata": {},
   "outputs": [
    {
     "data": {
      "text/html": [
       "<div>\n",
       "<style scoped>\n",
       "    .dataframe tbody tr th:only-of-type {\n",
       "        vertical-align: middle;\n",
       "    }\n",
       "\n",
       "    .dataframe tbody tr th {\n",
       "        vertical-align: top;\n",
       "    }\n",
       "\n",
       "    .dataframe thead th {\n",
       "        text-align: right;\n",
       "    }\n",
       "</style>\n",
       "<table border=\"1\" class=\"dataframe\">\n",
       "  <thead>\n",
       "    <tr style=\"text-align: right;\">\n",
       "      <th></th>\n",
       "      <th>artist_name</th>\n",
       "      <th>track_name</th>\n",
       "      <th>release_date</th>\n",
       "    </tr>\n",
       "  </thead>\n",
       "  <tbody>\n",
       "    <tr>\n",
       "      <th>18296</th>\n",
       "      <td>the crusaders</td>\n",
       "      <td>feel it</td>\n",
       "      <td>1977</td>\n",
       "    </tr>\n",
       "    <tr>\n",
       "      <th>9479</th>\n",
       "      <td>rickie lee jones</td>\n",
       "      <td>lush life</td>\n",
       "      <td>1983</td>\n",
       "    </tr>\n",
       "    <tr>\n",
       "      <th>14857</th>\n",
       "      <td>zz top</td>\n",
       "      <td>2000 blues</td>\n",
       "      <td>1990</td>\n",
       "    </tr>\n",
       "    <tr>\n",
       "      <th>15352</th>\n",
       "      <td>eric clapton</td>\n",
       "      <td>pilgrim</td>\n",
       "      <td>1998</td>\n",
       "    </tr>\n",
       "    <tr>\n",
       "      <th>4524</th>\n",
       "      <td>days of the new</td>\n",
       "      <td>shelf in the room</td>\n",
       "      <td>1997</td>\n",
       "    </tr>\n",
       "  </tbody>\n",
       "</table>\n",
       "</div>"
      ],
      "text/plain": [
       "            artist_name         track_name  release_date\n",
       "18296     the crusaders            feel it          1977\n",
       "9479   rickie lee jones          lush life          1983\n",
       "14857            zz top         2000 blues          1990\n",
       "15352      eric clapton            pilgrim          1998\n",
       "4524    days of the new  shelf in the room          1997"
      ]
     },
     "execution_count": 6,
     "metadata": {},
     "output_type": "execute_result"
    }
   ],
   "source": [
    "df_kaggle.sample(5)"
   ]
  },
  {
   "cell_type": "markdown",
   "metadata": {},
   "source": [
    "Spotify dataframe has 500k songs. Initially, try to include only 50k songs on training.\n",
    "Split the data with k-fold stratified algorithm, according to the artist column for even distribution "
   ]
  },
  {
   "cell_type": "code",
   "execution_count": 8,
   "metadata": {},
   "outputs": [
    {
     "data": {
      "text/html": [
       "<div>\n",
       "<style scoped>\n",
       "    .dataframe tbody tr th:only-of-type {\n",
       "        vertical-align: middle;\n",
       "    }\n",
       "\n",
       "    .dataframe tbody tr th {\n",
       "        vertical-align: top;\n",
       "    }\n",
       "\n",
       "    .dataframe thead th {\n",
       "        text-align: right;\n",
       "    }\n",
       "</style>\n",
       "<table border=\"1\" class=\"dataframe\">\n",
       "  <thead>\n",
       "    <tr style=\"text-align: right;\">\n",
       "      <th></th>\n",
       "      <th>track_name</th>\n",
       "      <th>Spotify_track_id</th>\n",
       "      <th>artist_name</th>\n",
       "    </tr>\n",
       "  </thead>\n",
       "  <tbody>\n",
       "    <tr>\n",
       "      <th>0</th>\n",
       "      <td>one dance</td>\n",
       "      <td>1zi7xx7UVEFkmKfv06H8x0</td>\n",
       "      <td>drake</td>\n",
       "    </tr>\n",
       "    <tr>\n",
       "      <th>1</th>\n",
       "      <td>god's plan</td>\n",
       "      <td>6DCZcSspjsKoFjzjrWoCdn</td>\n",
       "      <td>drake</td>\n",
       "    </tr>\n",
       "    <tr>\n",
       "      <th>2</th>\n",
       "      <td>passionfruit</td>\n",
       "      <td>5mCPDVBb16L4XQwDdbRUpz</td>\n",
       "      <td>drake</td>\n",
       "    </tr>\n",
       "    <tr>\n",
       "      <th>3</th>\n",
       "      <td>work</td>\n",
       "      <td>72TFWvU3wUYdUuxejTTIzt</td>\n",
       "      <td>drake</td>\n",
       "    </tr>\n",
       "    <tr>\n",
       "      <th>4</th>\n",
       "      <td>in my feelings</td>\n",
       "      <td>2G7V7zsVDxg1yRsu7Ew9RJ</td>\n",
       "      <td>drake</td>\n",
       "    </tr>\n",
       "  </tbody>\n",
       "</table>\n",
       "</div>"
      ],
      "text/plain": [
       "       track_name        Spotify_track_id artist_name\n",
       "0       one dance  1zi7xx7UVEFkmKfv06H8x0       drake\n",
       "1      god's plan  6DCZcSspjsKoFjzjrWoCdn       drake\n",
       "2    passionfruit  5mCPDVBb16L4XQwDdbRUpz       drake\n",
       "3            work  72TFWvU3wUYdUuxejTTIzt       drake\n",
       "4  in my feelings  2G7V7zsVDxg1yRsu7Ew9RJ       drake"
      ]
     },
     "execution_count": 8,
     "metadata": {},
     "output_type": "execute_result"
    }
   ],
   "source": [
    "df_spotify = pd.read_csv(\"../data/spotify_track_ids.csv\")\n",
    "df_spotify = df_spotify.drop(\"Unnamed: 0\", axis=1)\n",
    "df_spotify = df_spotify.rename(columns={\"Song_title\": \"track_name\", \"Artist\": \"artist_name\"})\n",
    "df_spotify.track_name = df_spotify.track_name.astype(str)\n",
    "df_spotify.track_name = df_spotify.track_name.apply(lambda x: x.lower())\n",
    "df_spotify.artist_name = df_spotify.artist_name.astype(str)\n",
    "df_spotify.artist_name = df_spotify.artist_name.apply(lambda x: x.lower())\n",
    "df_spotify.head()"
   ]
  },
  {
   "cell_type": "code",
   "execution_count": 9,
   "metadata": {},
   "outputs": [],
   "source": [
    "from sklearn.model_selection import StratifiedKFold\n",
    "\n",
    "skf = StratifiedKFold(n_splits=10)\n",
    "#splits=skf.split(df_spotify.track_name, df_spotify.artist_name)"
   ]
  },
  {
   "cell_type": "code",
   "execution_count": 10,
   "metadata": {},
   "outputs": [
    {
     "name": "stderr",
     "output_type": "stream",
     "text": [
      "/home/hdogan/myenv/lib/python3.10/site-packages/sklearn/model_selection/_split.py:776: UserWarning: The least populated class in y has only 4 members, which is less than n_splits=10.\n",
      "  warnings.warn(\n"
     ]
    }
   ],
   "source": [
    "for i, (train_ind, test_ind) in enumerate(skf.split(df_spotify.track_name, df_spotify.artist_name)):\n",
    "    #print(train_ind, test_ind)\n",
    "    df_spotify.loc[test_ind,\"fold\"] = i\n",
    "\n",
    "df_spotify.fold = df_spotify.fold.astype(int)"
   ]
  },
  {
   "cell_type": "code",
   "execution_count": 11,
   "metadata": {},
   "outputs": [
    {
     "data": {
      "text/html": [
       "<div>\n",
       "<style scoped>\n",
       "    .dataframe tbody tr th:only-of-type {\n",
       "        vertical-align: middle;\n",
       "    }\n",
       "\n",
       "    .dataframe tbody tr th {\n",
       "        vertical-align: top;\n",
       "    }\n",
       "\n",
       "    .dataframe thead th {\n",
       "        text-align: right;\n",
       "    }\n",
       "</style>\n",
       "<table border=\"1\" class=\"dataframe\">\n",
       "  <thead>\n",
       "    <tr style=\"text-align: right;\">\n",
       "      <th></th>\n",
       "      <th>track_name</th>\n",
       "      <th>Spotify_track_id</th>\n",
       "      <th>artist_name</th>\n",
       "      <th>fold</th>\n",
       "    </tr>\n",
       "  </thead>\n",
       "  <tbody>\n",
       "    <tr>\n",
       "      <th>300669</th>\n",
       "      <td>broche de oro - acústica</td>\n",
       "      <td>7vSuIZ04l6R4SoIK0Gp7Di</td>\n",
       "      <td>edwin luna y la trakalosa de monterrey</td>\n",
       "      <td>4</td>\n",
       "    </tr>\n",
       "    <tr>\n",
       "      <th>318463</th>\n",
       "      <td>sunday - tensnake remix</td>\n",
       "      <td>4rQIn2WK5rH9mnRhoKuI4S</td>\n",
       "      <td>foals</td>\n",
       "      <td>6</td>\n",
       "    </tr>\n",
       "    <tr>\n",
       "      <th>58990</th>\n",
       "      <td>lick it - datsik remix</td>\n",
       "      <td>6k5YEsbNtAbYprMHssqbQI</td>\n",
       "      <td>skrillex</td>\n",
       "      <td>8</td>\n",
       "    </tr>\n",
       "    <tr>\n",
       "      <th>423091</th>\n",
       "      <td>casting</td>\n",
       "      <td>42l1cUco5Rbju3D7JO0Ox7</td>\n",
       "      <td>kukon</td>\n",
       "      <td>1</td>\n",
       "    </tr>\n",
       "    <tr>\n",
       "      <th>357204</th>\n",
       "      <td>respect (feat. juicy j, k camp)</td>\n",
       "      <td>3JijaBBcegOrE23liWUzMl</td>\n",
       "      <td>k camp</td>\n",
       "      <td>4</td>\n",
       "    </tr>\n",
       "  </tbody>\n",
       "</table>\n",
       "</div>"
      ],
      "text/plain": [
       "                             track_name        Spotify_track_id  \\\n",
       "300669         broche de oro - acústica  7vSuIZ04l6R4SoIK0Gp7Di   \n",
       "318463          sunday - tensnake remix  4rQIn2WK5rH9mnRhoKuI4S   \n",
       "58990            lick it - datsik remix  6k5YEsbNtAbYprMHssqbQI   \n",
       "423091                          casting  42l1cUco5Rbju3D7JO0Ox7   \n",
       "357204  respect (feat. juicy j, k camp)  3JijaBBcegOrE23liWUzMl   \n",
       "\n",
       "                                   artist_name  fold  \n",
       "300669  edwin luna y la trakalosa de monterrey     4  \n",
       "318463                                   foals     6  \n",
       "58990                                 skrillex     8  \n",
       "423091                                   kukon     1  \n",
       "357204                                  k camp     4  "
      ]
     },
     "execution_count": 11,
     "metadata": {},
     "output_type": "execute_result"
    }
   ],
   "source": [
    "df_spotify.sample(5)"
   ]
  },
  {
   "cell_type": "markdown",
   "metadata": {},
   "source": [
    "Concatenate Kaggle and Spotify Dataframes"
   ]
  },
  {
   "cell_type": "code",
   "execution_count": 12,
   "metadata": {},
   "outputs": [
    {
     "data": {
      "text/plain": [
       "51333"
      ]
     },
     "execution_count": 12,
     "metadata": {},
     "output_type": "execute_result"
    }
   ],
   "source": [
    "df_spot_fold0 = df_spotify[df_spotify.fold == 0]\n",
    "df_spot_fold0 = df_spot_fold0[[\"track_name\", \"artist_name\"]].reset_index(drop=True)\n",
    "len(df_spot_fold0)"
   ]
  },
  {
   "cell_type": "code",
   "execution_count": 13,
   "metadata": {},
   "outputs": [
    {
     "data": {
      "text/plain": [
       "76810"
      ]
     },
     "execution_count": 13,
     "metadata": {},
     "output_type": "execute_result"
    }
   ],
   "source": [
    "df = pd.concat([df_kaggle, df_spot_fold0],axis=0)\n",
    "df = df[[\"artist_name\", \"track_name\"]]\n",
    "df = df.drop_duplicates()\n",
    "len(df)"
   ]
  },
  {
   "cell_type": "code",
   "execution_count": 14,
   "metadata": {},
   "outputs": [],
   "source": [
    "df = df.reset_index(drop=True)"
   ]
  },
  {
   "cell_type": "code",
   "execution_count": 15,
   "metadata": {},
   "outputs": [],
   "source": [
    "from sklearn.feature_extraction.text import CountVectorizer\n",
    "from sklearn.metrics.pairwise import cosine_similarity\n",
    "\n",
    "vectorizer = CountVectorizer()\n",
    "\n",
    "count_matrix = vectorizer.fit_transform(df.track_name)"
   ]
  },
  {
   "cell_type": "code",
   "execution_count": 16,
   "metadata": {},
   "outputs": [],
   "source": [
    "count_matrix = count_matrix.astype(np.int16)"
   ]
  },
  {
   "cell_type": "code",
   "execution_count": 17,
   "metadata": {},
   "outputs": [],
   "source": [
    "cosine_sim = cosine_similarity(count_matrix, count_matrix, dense_output=False)"
   ]
  },
  {
   "cell_type": "code",
   "execution_count": 18,
   "metadata": {},
   "outputs": [],
   "source": [
    "def get_recommendation_title(df_index) :\n",
    "    ind1 = np.argsort(cosine_sim[df_index].toarray()[0])[::-1][:10]\n",
    "    return df.loc[ind1]"
   ]
  },
  {
   "cell_type": "markdown",
   "metadata": {},
   "source": [
    "Try some random examples (the first row of the results is the song itself)"
   ]
  },
  {
   "cell_type": "code",
   "execution_count": 20,
   "metadata": {},
   "outputs": [
    {
     "name": "stdout",
     "output_type": "stream",
     "text": [
      "simon & garfunkel    he was my brother\n"
     ]
    },
    {
     "data": {
      "text/html": [
       "<div>\n",
       "<style scoped>\n",
       "    .dataframe tbody tr th:only-of-type {\n",
       "        vertical-align: middle;\n",
       "    }\n",
       "\n",
       "    .dataframe tbody tr th {\n",
       "        vertical-align: top;\n",
       "    }\n",
       "\n",
       "    .dataframe thead th {\n",
       "        text-align: right;\n",
       "    }\n",
       "</style>\n",
       "<table border=\"1\" class=\"dataframe\">\n",
       "  <thead>\n",
       "    <tr style=\"text-align: right;\">\n",
       "      <th></th>\n",
       "      <th>artist_name</th>\n",
       "      <th>track_name</th>\n",
       "    </tr>\n",
       "  </thead>\n",
       "  <tbody>\n",
       "    <tr>\n",
       "      <th>820</th>\n",
       "      <td>simon &amp; garfunkel</td>\n",
       "      <td>he was my brother</td>\n",
       "    </tr>\n",
       "    <tr>\n",
       "      <th>875</th>\n",
       "      <td>paul simon</td>\n",
       "      <td>he was my brother</td>\n",
       "    </tr>\n",
       "    <tr>\n",
       "      <th>76281</th>\n",
       "      <td>the hollies</td>\n",
       "      <td>he ain't heavy he's my brother - 1998 remaster</td>\n",
       "    </tr>\n",
       "    <tr>\n",
       "      <th>25407</th>\n",
       "      <td>alice in chains</td>\n",
       "      <td>brother</td>\n",
       "    </tr>\n",
       "    <tr>\n",
       "      <th>72945</th>\n",
       "      <td>kizz daniel</td>\n",
       "      <td>my g</td>\n",
       "    </tr>\n",
       "    <tr>\n",
       "      <th>44070</th>\n",
       "      <td>kodaline</td>\n",
       "      <td>brother</td>\n",
       "    </tr>\n",
       "    <tr>\n",
       "      <th>34616</th>\n",
       "      <td>troye sivan</td>\n",
       "      <td>my my my!</td>\n",
       "    </tr>\n",
       "    <tr>\n",
       "      <th>61701</th>\n",
       "      <td>needtobreathe</td>\n",
       "      <td>brother</td>\n",
       "    </tr>\n",
       "    <tr>\n",
       "      <th>6374</th>\n",
       "      <td>francesca battistelli</td>\n",
       "      <td>he knows my name</td>\n",
       "    </tr>\n",
       "    <tr>\n",
       "      <th>36734</th>\n",
       "      <td>mac demarco</td>\n",
       "      <td>brother</td>\n",
       "    </tr>\n",
       "  </tbody>\n",
       "</table>\n",
       "</div>"
      ],
      "text/plain": [
       "                 artist_name                                      track_name\n",
       "820        simon & garfunkel                               he was my brother\n",
       "875               paul simon                               he was my brother\n",
       "76281            the hollies  he ain't heavy he's my brother - 1998 remaster\n",
       "25407        alice in chains                                         brother\n",
       "72945            kizz daniel                                            my g\n",
       "44070               kodaline                                         brother\n",
       "34616            troye sivan                                       my my my!\n",
       "61701          needtobreathe                                         brother\n",
       "6374   francesca battistelli                                he knows my name\n",
       "36734            mac demarco                                         brother"
      ]
     },
     "execution_count": 20,
     "metadata": {},
     "output_type": "execute_result"
    }
   ],
   "source": [
    "ind = 820\n",
    "song=df.loc[ind][\"track_name\"]\n",
    "singer=df.loc[ind][\"artist_name\"]\n",
    "print(singer, \"  \", song)\n",
    "get_recommendation_title(ind)"
   ]
  },
  {
   "cell_type": "code",
   "execution_count": null,
   "metadata": {},
   "outputs": [],
   "source": []
  },
  {
   "cell_type": "code",
   "execution_count": 2,
   "metadata": {},
   "outputs": [],
   "source": []
  }
 ],
 "metadata": {
  "kernelspec": {
   "display_name": "Python 3 (ipykernel)",
   "language": "python",
   "name": "python3"
  },
  "language_info": {
   "codemirror_mode": {
    "name": "ipython",
    "version": 3
   },
   "file_extension": ".py",
   "mimetype": "text/x-python",
   "name": "python",
   "nbconvert_exporter": "python",
   "pygments_lexer": "ipython3",
   "version": "3.10.12"
  }
 },
 "nbformat": 4,
 "nbformat_minor": 4
}
