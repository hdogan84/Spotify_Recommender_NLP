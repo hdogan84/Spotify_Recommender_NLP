{
 "cells": [
  {
   "cell_type": "code",
   "execution_count": 1,
   "metadata": {},
   "outputs": [],
   "source": [
    "import numpy as np\n",
    "import pandas as pd\n",
    "import pickle"
   ]
  },
  {
   "cell_type": "code",
   "execution_count": 2,
   "metadata": {},
   "outputs": [],
   "source": [
    "from sklearn.feature_extraction.text import CountVectorizer\n",
    "from sklearn.feature_extraction.text import TfidfVectorizer"
   ]
  },
  {
   "cell_type": "code",
   "execution_count": 3,
   "metadata": {},
   "outputs": [],
   "source": [
    "df_kaggle = pd.read_csv(\"../data/music-dataset-1950-to-2019/tcc_ceds_music.csv\")\n",
    "columns = [\"artist_name\", \"track_name\", \"release_date\"]\n",
    "df_kaggle = df_kaggle[columns]"
   ]
  },
  {
   "cell_type": "code",
   "execution_count": 4,
   "metadata": {},
   "outputs": [
    {
     "data": {
      "text/html": [
       "<div>\n",
       "<style scoped>\n",
       "    .dataframe tbody tr th:only-of-type {\n",
       "        vertical-align: middle;\n",
       "    }\n",
       "\n",
       "    .dataframe tbody tr th {\n",
       "        vertical-align: top;\n",
       "    }\n",
       "\n",
       "    .dataframe thead th {\n",
       "        text-align: right;\n",
       "    }\n",
       "</style>\n",
       "<table border=\"1\" class=\"dataframe\">\n",
       "  <thead>\n",
       "    <tr style=\"text-align: right;\">\n",
       "      <th></th>\n",
       "      <th>artist_name</th>\n",
       "      <th>track_name</th>\n",
       "      <th>release_date</th>\n",
       "    </tr>\n",
       "  </thead>\n",
       "  <tbody>\n",
       "    <tr>\n",
       "      <th>18148</th>\n",
       "      <td>fatback band</td>\n",
       "      <td>mister bass man</td>\n",
       "      <td>1974</td>\n",
       "    </tr>\n",
       "    <tr>\n",
       "      <th>4893</th>\n",
       "      <td>thursday</td>\n",
       "      <td>standing on the edge of summer</td>\n",
       "      <td>2001</td>\n",
       "    </tr>\n",
       "  </tbody>\n",
       "</table>\n",
       "</div>"
      ],
      "text/plain": [
       "        artist_name                      track_name  release_date\n",
       "18148  fatback band                 mister bass man          1974\n",
       "4893       thursday  standing on the edge of summer          2001"
      ]
     },
     "execution_count": 4,
     "metadata": {},
     "output_type": "execute_result"
    }
   ],
   "source": [
    "df_kaggle.sample(2)"
   ]
  },
  {
   "cell_type": "markdown",
   "metadata": {},
   "source": [
    "Spotify dataframe has 500k songs. Initially, try to include only 50k songs on training.\n",
    "Split the data with k-fold stratified algorithm, according to the artist column for even distribution "
   ]
  },
  {
   "cell_type": "code",
   "execution_count": 6,
   "metadata": {},
   "outputs": [],
   "source": [
    "df_spotify = pd.read_csv(\"../data/spotify_track_ids.csv\")\n",
    "df_spotify = df_spotify.drop(\"Unnamed: 0\", axis=1)\n",
    "df_spotify = df_spotify.rename(columns={\"Song_title\": \"track_name\", \"Artist\": \"artist_name\"})\n",
    "df_spotify.track_name = df_spotify.track_name.astype(str)\n",
    "df_spotify.track_name = df_spotify.track_name.apply(lambda x: x.lower())\n",
    "df_spotify.artist_name = df_spotify.artist_name.astype(str)\n",
    "df_spotify.artist_name = df_spotify.artist_name.apply(lambda x: x.lower())"
   ]
  },
  {
   "cell_type": "code",
   "execution_count": 19,
   "metadata": {},
   "outputs": [],
   "source": [
    "from sklearn.model_selection import StratifiedKFold\n",
    "\n",
    "skf = StratifiedKFold(n_splits=5, random_state=421, shuffle=True)"
   ]
  },
  {
   "cell_type": "code",
   "execution_count": 20,
   "metadata": {},
   "outputs": [
    {
     "name": "stderr",
     "output_type": "stream",
     "text": [
      "/home/hdogan/myenv/lib/python3.10/site-packages/sklearn/model_selection/_split.py:776: UserWarning: The least populated class in y has only 4 members, which is less than n_splits=5.\n",
      "  warnings.warn(\n"
     ]
    }
   ],
   "source": [
    "for i, (train_ind, test_ind) in enumerate(skf.split(df_spotify.track_name, df_spotify.artist_name)):\n",
    "    #print(train_ind, test_ind)\n",
    "    df_spotify.loc[test_ind,\"fold\"] = i\n",
    "\n",
    "df_spotify.fold = df_spotify.fold.astype(int)"
   ]
  },
  {
   "cell_type": "code",
   "execution_count": 21,
   "metadata": {},
   "outputs": [
    {
     "data": {
      "text/html": [
       "<div>\n",
       "<style scoped>\n",
       "    .dataframe tbody tr th:only-of-type {\n",
       "        vertical-align: middle;\n",
       "    }\n",
       "\n",
       "    .dataframe tbody tr th {\n",
       "        vertical-align: top;\n",
       "    }\n",
       "\n",
       "    .dataframe thead th {\n",
       "        text-align: right;\n",
       "    }\n",
       "</style>\n",
       "<table border=\"1\" class=\"dataframe\">\n",
       "  <thead>\n",
       "    <tr style=\"text-align: right;\">\n",
       "      <th></th>\n",
       "      <th>track_name</th>\n",
       "      <th>Spotify_track_id</th>\n",
       "      <th>artist_name</th>\n",
       "      <th>fold</th>\n",
       "    </tr>\n",
       "  </thead>\n",
       "  <tbody>\n",
       "    <tr>\n",
       "      <th>396501</th>\n",
       "      <td>virgen de la candelaria</td>\n",
       "      <td>1OEr836z8yjUr53GIhZbKf</td>\n",
       "      <td>la sonora dinamita</td>\n",
       "      <td>3</td>\n",
       "    </tr>\n",
       "    <tr>\n",
       "      <th>48816</th>\n",
       "      <td>she’s gone dub</td>\n",
       "      <td>7vctZxSB4Sbw73j0l0rjRc</td>\n",
       "      <td>bob marley &amp; the wailers</td>\n",
       "      <td>3</td>\n",
       "    </tr>\n",
       "    <tr>\n",
       "      <th>350447</th>\n",
       "      <td>covered in diamonds</td>\n",
       "      <td>5PhCT5CmWPEivNgoJiyqAy</td>\n",
       "      <td>famous dex</td>\n",
       "      <td>2</td>\n",
       "    </tr>\n",
       "    <tr>\n",
       "      <th>222867</th>\n",
       "      <td>días extraños - reprise</td>\n",
       "      <td>64GjpPIcWyR3ExCWKUv2Rw</td>\n",
       "      <td>bunbury</td>\n",
       "      <td>0</td>\n",
       "    </tr>\n",
       "  </tbody>\n",
       "</table>\n",
       "</div>"
      ],
      "text/plain": [
       "                     track_name        Spotify_track_id  \\\n",
       "396501  virgen de la candelaria  1OEr836z8yjUr53GIhZbKf   \n",
       "48816            she’s gone dub  7vctZxSB4Sbw73j0l0rjRc   \n",
       "350447      covered in diamonds  5PhCT5CmWPEivNgoJiyqAy   \n",
       "222867  días extraños - reprise  64GjpPIcWyR3ExCWKUv2Rw   \n",
       "\n",
       "                     artist_name  fold  \n",
       "396501        la sonora dinamita     3  \n",
       "48816   bob marley & the wailers     3  \n",
       "350447                famous dex     2  \n",
       "222867                   bunbury     0  "
      ]
     },
     "execution_count": 21,
     "metadata": {},
     "output_type": "execute_result"
    }
   ],
   "source": [
    "df_spotify.sample(4)"
   ]
  },
  {
   "cell_type": "markdown",
   "metadata": {},
   "source": [
    "Concatenate Kaggle and Spotify Dataframes"
   ]
  },
  {
   "cell_type": "code",
   "execution_count": 22,
   "metadata": {},
   "outputs": [
    {
     "data": {
      "text/plain": [
       "102665"
      ]
     },
     "execution_count": 22,
     "metadata": {},
     "output_type": "execute_result"
    }
   ],
   "source": [
    "df_spot_fold0 = df_spotify[df_spotify.fold == 0]\n",
    "df_spot_fold0 = df_spot_fold0[[\"track_name\", \"artist_name\"]].reset_index(drop=True)\n",
    "len(df_spot_fold0)"
   ]
  },
  {
   "cell_type": "code",
   "execution_count": 23,
   "metadata": {},
   "outputs": [
    {
     "data": {
      "text/plain": [
       "129306"
      ]
     },
     "execution_count": 23,
     "metadata": {},
     "output_type": "execute_result"
    }
   ],
   "source": [
    "df = pd.concat([df_kaggle, df_spot_fold0],axis=0)\n",
    "df = df[[\"artist_name\", \"track_name\"]]\n",
    "df = df.drop_duplicates()\n",
    "len(df)"
   ]
  },
  {
   "cell_type": "code",
   "execution_count": 24,
   "metadata": {},
   "outputs": [],
   "source": [
    "df = df.reset_index(drop=True)"
   ]
  },
  {
   "cell_type": "code",
   "execution_count": 25,
   "metadata": {},
   "outputs": [],
   "source": [
    "from sklearn.feature_extraction.text import CountVectorizer\n",
    "from sklearn.metrics.pairwise import cosine_similarity\n",
    "\n",
    "vectorizer = CountVectorizer(max_features=15000)\n",
    "\n",
    "count_matrix = vectorizer.fit_transform(df.track_name)"
   ]
  },
  {
   "cell_type": "code",
   "execution_count": 26,
   "metadata": {},
   "outputs": [],
   "source": [
    "count_matrix = count_matrix.astype(np.int16)"
   ]
  },
  {
   "cell_type": "code",
   "execution_count": 27,
   "metadata": {},
   "outputs": [],
   "source": [
    "cosine_sim = cosine_similarity(count_matrix, count_matrix, dense_output=False)"
   ]
  },
  {
   "cell_type": "code",
   "execution_count": 29,
   "metadata": {},
   "outputs": [],
   "source": [
    "def get_recommendation_title(df_index) :\n",
    "    ind1 = np.argsort(cosine_sim[df_index].toarray()[0])[::-1][:10]\n",
    "    return df.loc[ind1]"
   ]
  },
  {
   "cell_type": "markdown",
   "metadata": {},
   "source": [
    "Try some random examples (the first row of the results is the song itself)"
   ]
  },
  {
   "cell_type": "code",
   "execution_count": 30,
   "metadata": {},
   "outputs": [
    {
     "name": "stdout",
     "output_type": "stream",
     "text": [
      "simon & garfunkel    he was my brother\n"
     ]
    },
    {
     "data": {
      "text/html": [
       "<div>\n",
       "<style scoped>\n",
       "    .dataframe tbody tr th:only-of-type {\n",
       "        vertical-align: middle;\n",
       "    }\n",
       "\n",
       "    .dataframe tbody tr th {\n",
       "        vertical-align: top;\n",
       "    }\n",
       "\n",
       "    .dataframe thead th {\n",
       "        text-align: right;\n",
       "    }\n",
       "</style>\n",
       "<table border=\"1\" class=\"dataframe\">\n",
       "  <thead>\n",
       "    <tr style=\"text-align: right;\">\n",
       "      <th></th>\n",
       "      <th>artist_name</th>\n",
       "      <th>track_name</th>\n",
       "    </tr>\n",
       "  </thead>\n",
       "  <tbody>\n",
       "    <tr>\n",
       "      <th>820</th>\n",
       "      <td>simon &amp; garfunkel</td>\n",
       "      <td>he was my brother</td>\n",
       "    </tr>\n",
       "    <tr>\n",
       "      <th>875</th>\n",
       "      <td>paul simon</td>\n",
       "      <td>he was my brother</td>\n",
       "    </tr>\n",
       "    <tr>\n",
       "      <th>122947</th>\n",
       "      <td>randy travis</td>\n",
       "      <td>he's my rock, my sword, my shield</td>\n",
       "    </tr>\n",
       "    <tr>\n",
       "      <th>8024</th>\n",
       "      <td>bob wills</td>\n",
       "      <td>my adobe hacienda</td>\n",
       "    </tr>\n",
       "    <tr>\n",
       "      <th>26617</th>\n",
       "      <td>arctic monkeys</td>\n",
       "      <td>my propeller</td>\n",
       "    </tr>\n",
       "    <tr>\n",
       "      <th>90606</th>\n",
       "      <td>brett eldredge</td>\n",
       "      <td>brother</td>\n",
       "    </tr>\n",
       "    <tr>\n",
       "      <th>107974</th>\n",
       "      <td>stereophonics</td>\n",
       "      <td>brother</td>\n",
       "    </tr>\n",
       "    <tr>\n",
       "      <th>1616</th>\n",
       "      <td>bread</td>\n",
       "      <td>she was my lady</td>\n",
       "    </tr>\n",
       "    <tr>\n",
       "      <th>54812</th>\n",
       "      <td>joey bada$$</td>\n",
       "      <td>my yout</td>\n",
       "    </tr>\n",
       "    <tr>\n",
       "      <th>44826</th>\n",
       "      <td>fetty wap</td>\n",
       "      <td>my environment</td>\n",
       "    </tr>\n",
       "  </tbody>\n",
       "</table>\n",
       "</div>"
      ],
      "text/plain": [
       "              artist_name                         track_name\n",
       "820     simon & garfunkel                  he was my brother\n",
       "875            paul simon                  he was my brother\n",
       "122947       randy travis  he's my rock, my sword, my shield\n",
       "8024            bob wills                  my adobe hacienda\n",
       "26617      arctic monkeys                       my propeller\n",
       "90606      brett eldredge                            brother\n",
       "107974      stereophonics                            brother\n",
       "1616                bread                    she was my lady\n",
       "54812         joey bada$$                            my yout\n",
       "44826           fetty wap                     my environment"
      ]
     },
     "execution_count": 30,
     "metadata": {},
     "output_type": "execute_result"
    }
   ],
   "source": [
    "ind = 820\n",
    "song=df.loc[ind][\"track_name\"]\n",
    "singer=df.loc[ind][\"artist_name\"]\n",
    "print(singer, \"  \", song)\n",
    "get_recommendation_title(ind)"
   ]
  },
  {
   "cell_type": "markdown",
   "metadata": {},
   "source": [
    "Save the model file to pickle"
   ]
  },
  {
   "cell_type": "code",
   "execution_count": 32,
   "metadata": {},
   "outputs": [],
   "source": [
    "model_dict=dict()\n",
    "model_dict[\"vectorizer\"] = vectorizer\n",
    "model_dict[\"dataframe\"] = df\n",
    "model_dict[\"count_matrix\"] = count_matrix"
   ]
  },
  {
   "cell_type": "code",
   "execution_count": 34,
   "metadata": {},
   "outputs": [],
   "source": [
    "folder = \"../data/ML_models/\"\n",
    "filename = 'RecSys_track_name.pkl'"
   ]
  },
  {
   "cell_type": "code",
   "execution_count": 36,
   "metadata": {},
   "outputs": [],
   "source": [
    "with open(folder+filename, 'wb') as file:\n",
    "    # Serialize the dictionary and save it to the file\n",
    "    pickle.dump(model_dict, file)"
   ]
  },
  {
   "cell_type": "code",
   "execution_count": null,
   "metadata": {},
   "outputs": [],
   "source": []
  },
  {
   "cell_type": "code",
   "execution_count": null,
   "metadata": {},
   "outputs": [],
   "source": []
  },
  {
   "cell_type": "code",
   "execution_count": null,
   "metadata": {},
   "outputs": [],
   "source": []
  },
  {
   "cell_type": "code",
   "execution_count": null,
   "metadata": {},
   "outputs": [],
   "source": []
  }
 ],
 "metadata": {
  "kernelspec": {
   "display_name": "Python 3 (ipykernel)",
   "language": "python",
   "name": "python3"
  },
  "language_info": {
   "codemirror_mode": {
    "name": "ipython",
    "version": 3
   },
   "file_extension": ".py",
   "mimetype": "text/x-python",
   "name": "python",
   "nbconvert_exporter": "python",
   "pygments_lexer": "ipython3",
   "version": "3.10.12"
  }
 },
 "nbformat": 4,
 "nbformat_minor": 4
}
