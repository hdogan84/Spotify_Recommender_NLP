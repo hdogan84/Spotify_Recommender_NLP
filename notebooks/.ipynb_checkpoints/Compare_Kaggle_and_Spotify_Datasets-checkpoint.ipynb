{
 "cells": [
  {
   "cell_type": "code",
   "execution_count": 1,
   "metadata": {},
   "outputs": [],
   "source": [
    "import numpy as np\n",
    "import pandas as pd"
   ]
  },
  {
   "cell_type": "code",
   "execution_count": 4,
   "metadata": {},
   "outputs": [],
   "source": [
    "folder = '../data/music-dataset-1950-to-2019/'"
   ]
  },
  {
   "cell_type": "code",
   "execution_count": 5,
   "metadata": {},
   "outputs": [],
   "source": [
    "df_kaggle = pd.read_csv(folder + \"tcc_ceds_music.csv\", )\n",
    "columns = [\"artist_name\",\"track_name\",\"release_date\",\"genre\", \"lyrics\",\"len\"]\n",
    "df_kaggle = df_kaggle[columns]"
   ]
  },
  {
   "cell_type": "code",
   "execution_count": 6,
   "metadata": {},
   "outputs": [
    {
     "data": {
      "text/plain": [
       "28372"
      ]
     },
     "execution_count": 6,
     "metadata": {},
     "output_type": "execute_result"
    }
   ],
   "source": [
    "len(df_kaggle)"
   ]
  },
  {
   "cell_type": "code",
   "execution_count": 7,
   "metadata": {},
   "outputs": [
    {
     "data": {
      "text/html": [
       "<div>\n",
       "<style scoped>\n",
       "    .dataframe tbody tr th:only-of-type {\n",
       "        vertical-align: middle;\n",
       "    }\n",
       "\n",
       "    .dataframe tbody tr th {\n",
       "        vertical-align: top;\n",
       "    }\n",
       "\n",
       "    .dataframe thead th {\n",
       "        text-align: right;\n",
       "    }\n",
       "</style>\n",
       "<table border=\"1\" class=\"dataframe\">\n",
       "  <thead>\n",
       "    <tr style=\"text-align: right;\">\n",
       "      <th></th>\n",
       "      <th>artist_name</th>\n",
       "      <th>track_name</th>\n",
       "      <th>release_date</th>\n",
       "      <th>genre</th>\n",
       "      <th>lyrics</th>\n",
       "      <th>len</th>\n",
       "    </tr>\n",
       "  </thead>\n",
       "  <tbody>\n",
       "    <tr>\n",
       "      <th>0</th>\n",
       "      <td>mukesh</td>\n",
       "      <td>mohabbat bhi jhoothi</td>\n",
       "      <td>1950</td>\n",
       "      <td>pop</td>\n",
       "      <td>hold time feel break feel untrue convince spea...</td>\n",
       "      <td>95</td>\n",
       "    </tr>\n",
       "    <tr>\n",
       "      <th>1</th>\n",
       "      <td>frankie laine</td>\n",
       "      <td>i believe</td>\n",
       "      <td>1950</td>\n",
       "      <td>pop</td>\n",
       "      <td>believe drop rain fall grow believe darkest ni...</td>\n",
       "      <td>51</td>\n",
       "    </tr>\n",
       "  </tbody>\n",
       "</table>\n",
       "</div>"
      ],
      "text/plain": [
       "     artist_name            track_name  release_date genre  \\\n",
       "0         mukesh  mohabbat bhi jhoothi          1950   pop   \n",
       "1  frankie laine             i believe          1950   pop   \n",
       "\n",
       "                                              lyrics  len  \n",
       "0  hold time feel break feel untrue convince spea...   95  \n",
       "1  believe drop rain fall grow believe darkest ni...   51  "
      ]
     },
     "execution_count": 7,
     "metadata": {},
     "output_type": "execute_result"
    }
   ],
   "source": [
    "df_kaggle.head(2)"
   ]
  },
  {
   "cell_type": "code",
   "execution_count": 9,
   "metadata": {},
   "outputs": [
    {
     "data": {
      "text/html": [
       "<div>\n",
       "<style scoped>\n",
       "    .dataframe tbody tr th:only-of-type {\n",
       "        vertical-align: middle;\n",
       "    }\n",
       "\n",
       "    .dataframe tbody tr th {\n",
       "        vertical-align: top;\n",
       "    }\n",
       "\n",
       "    .dataframe thead th {\n",
       "        text-align: right;\n",
       "    }\n",
       "</style>\n",
       "<table border=\"1\" class=\"dataframe\">\n",
       "  <thead>\n",
       "    <tr style=\"text-align: right;\">\n",
       "      <th></th>\n",
       "      <th>Song_title</th>\n",
       "      <th>Spotify_track_id</th>\n",
       "      <th>Artist</th>\n",
       "    </tr>\n",
       "  </thead>\n",
       "  <tbody>\n",
       "    <tr>\n",
       "      <th>0</th>\n",
       "      <td>One Dance</td>\n",
       "      <td>1zi7xx7UVEFkmKfv06H8x0</td>\n",
       "      <td>Drake</td>\n",
       "    </tr>\n",
       "    <tr>\n",
       "      <th>1</th>\n",
       "      <td>God's Plan</td>\n",
       "      <td>6DCZcSspjsKoFjzjrWoCdn</td>\n",
       "      <td>Drake</td>\n",
       "    </tr>\n",
       "  </tbody>\n",
       "</table>\n",
       "</div>"
      ],
      "text/plain": [
       "   Song_title        Spotify_track_id Artist\n",
       "0   One Dance  1zi7xx7UVEFkmKfv06H8x0  Drake\n",
       "1  God's Plan  6DCZcSspjsKoFjzjrWoCdn  Drake"
      ]
     },
     "execution_count": 9,
     "metadata": {},
     "output_type": "execute_result"
    }
   ],
   "source": [
    "df_spotify = pd.read_csv(\"../data/spotify_track_ids.csv\", sep= ',')\n",
    "df_spotify = df_spotify.drop(\"Unnamed: 0\", axis=1)\n",
    "df_spotify.head(2)"
   ]
  },
  {
   "cell_type": "code",
   "execution_count": 10,
   "metadata": {},
   "outputs": [],
   "source": [
    "artists_kaggle = df_kaggle.artist_name.unique().tolist()"
   ]
  },
  {
   "cell_type": "code",
   "execution_count": 11,
   "metadata": {},
   "outputs": [],
   "source": [
    "artists_kaggle.sort()"
   ]
  },
  {
   "cell_type": "code",
   "execution_count": 12,
   "metadata": {},
   "outputs": [
    {
     "data": {
      "text/plain": [
       "5426"
      ]
     },
     "execution_count": 12,
     "metadata": {},
     "output_type": "execute_result"
    }
   ],
   "source": [
    "len(artists_kaggle)"
   ]
  },
  {
   "cell_type": "code",
   "execution_count": 13,
   "metadata": {},
   "outputs": [
    {
     "data": {
      "text/plain": [
       "['\"weird al\" yankovic',\n",
       " '$uicideboy$',\n",
       " \"'til tuesday\",\n",
       " '(hed) p.e.',\n",
       " '*nsync',\n",
       " '+44',\n",
       " '10 ft. ganja plant',\n",
       " '10 years',\n",
       " '10,000 maniacs',\n",
       " '1000mods',\n",
       " '10cc',\n",
       " '11 acorn lane',\n",
       " '112',\n",
       " '113',\n",
       " '12 stones',\n",
       " '2 pistols',\n",
       " '2pac',\n",
       " '3 doors down',\n",
       " '311',\n",
       " '38 special',\n",
       " '3lw',\n",
       " '3rd bass',\n",
       " '3rd force',\n",
       " '4 non blondes',\n",
       " '5 seconds of summer',\n",
       " '50 cent',\n",
       " '504 boyz',\n",
       " '6lack',\n",
       " '702',\n",
       " '7horse',\n",
       " '83',\n",
       " '88rising',\n",
       " '8ball',\n",
       " '8ball & mjg',\n",
       " '98º',\n",
       " '999',\n",
       " '? & the mysterians',\n",
       " 'a day to remember',\n",
       " 'a filial',\n",
       " 'a flock of seagulls',\n",
       " 'a great big world',\n",
       " 'a perfect circle',\n",
       " 'a r i z o n a',\n",
       " 'a rocket to the moon',\n",
       " 'a thousand horses',\n",
       " 'a tribe called quest',\n",
       " 'a$ap ferg',\n",
       " 'a$ap mob',\n",
       " 'a$ap rocky',\n",
       " 'a*teens',\n",
       " 'a-ha',\n",
       " 'a. m. rajah',\n",
       " 'a.k.r.a.',\n",
       " 'a.r. kane',\n",
       " 'aaliyah',\n",
       " 'aaron kamm and the one drops',\n",
       " 'aaron lewis',\n",
       " 'aaron shust',\n",
       " 'aaron tippin',\n",
       " 'aaron watson',\n",
       " 'ab-soul',\n",
       " 'abba',\n",
       " 'abbey lincoln',\n",
       " 'abc',\n",
       " 'abhi the nomad',\n",
       " 'abstract artform',\n",
       " 'abstract orchestra',\n",
       " 'abstract rude',\n",
       " 'abul mogard',\n",
       " 'ac/dc',\n",
       " 'accept',\n",
       " 'ace',\n",
       " 'ace frehley',\n",
       " 'ace hood',\n",
       " 'ace of base',\n",
       " 'aceyalone',\n",
       " 'acid king',\n",
       " 'acoustic alchemy',\n",
       " 'action bronson',\n",
       " 'adam ant',\n",
       " 'adam calhoun',\n",
       " 'adam doleac',\n",
       " 'adam gussow',\n",
       " 'adam hambrick',\n",
       " 'adam hood',\n",
       " 'adam jensen',\n",
       " 'adam lambert',\n",
       " 'adam levine',\n",
       " 'adam sanders',\n",
       " 'adani & wolf',\n",
       " 'adele',\n",
       " 'adelitas way',\n",
       " 'adema',\n",
       " 'admiral bailey',\n",
       " 'aerosmith',\n",
       " 'afi',\n",
       " 'african underground',\n",
       " 'afroman',\n",
       " 'afterlife',\n",
       " 'afu-ra']"
      ]
     },
     "execution_count": 13,
     "metadata": {},
     "output_type": "execute_result"
    }
   ],
   "source": [
    "artists_kaggle[:100]"
   ]
  },
  {
   "cell_type": "code",
   "execution_count": 14,
   "metadata": {},
   "outputs": [],
   "source": [
    "artists_spotify = df_spotify.Artist.unique().tolist()"
   ]
  },
  {
   "cell_type": "code",
   "execution_count": 15,
   "metadata": {},
   "outputs": [],
   "source": [
    "artists_spotify.sort()"
   ]
  },
  {
   "cell_type": "code",
   "execution_count": 16,
   "metadata": {},
   "outputs": [
    {
     "data": {
      "text/plain": [
       "['$NOT',\n",
       " '$uicideboy$',\n",
       " '(G)I-DLE',\n",
       " '*NSYNC',\n",
       " '01099',\n",
       " '070 Shake',\n",
       " '112',\n",
       " '187 Strassenbande',\n",
       " '1Kilo',\n",
       " '1nonly',\n",
       " '2 Chainz',\n",
       " '21 Savage',\n",
       " '24kGoldn',\n",
       " '2Pac',\n",
       " '3 Doors Down',\n",
       " '311',\n",
       " '347aidan',\n",
       " '3OH!3',\n",
       " '3robi',\n",
       " '4 Non Blondes',\n",
       " '42 Dugg',\n",
       " '5 Seconds of Summer',\n",
       " '50 Cent',\n",
       " '6LACK',\n",
       " '6ix9ine',\n",
       " '88rising',\n",
       " 'A Boogie Wit da Hoodie',\n",
       " 'A Day To Remember',\n",
       " 'A Great Big World',\n",
       " 'A Perfect Circle',\n",
       " 'A R I Z O N A',\n",
       " 'A Touch Of Class',\n",
       " 'A Tribe Called Quest',\n",
       " 'A$AP Ferg',\n",
       " 'A$AP Mob',\n",
       " 'A$AP Rocky',\n",
       " 'A-Trak',\n",
       " 'A.R. Rahman',\n",
       " 'A7S',\n",
       " 'ABBA',\n",
       " 'AC/DC',\n",
       " 'ACRAZE',\n",
       " 'AFROJACK',\n",
       " 'AJ Mitchell',\n",
       " 'AJ Tracey',\n",
       " 'AJR',\n",
       " 'AK AUSSERKONTROLLE',\n",
       " 'ALMA',\n",
       " 'ANAVITÓRIA',\n",
       " 'ANNA',\n",
       " 'AOA',\n",
       " 'AP Dhillon',\n",
       " 'ARASHI',\n",
       " 'ATB',\n",
       " 'ATEEZ',\n",
       " 'AURORA',\n",
       " 'AWOLNATION',\n",
       " 'AYLIVA',\n",
       " 'Aaliyah',\n",
       " 'Aaron May',\n",
       " 'Aaron Smith',\n",
       " 'Abel Pintos',\n",
       " 'Abhijeet',\n",
       " 'Above & Beyond',\n",
       " 'Abraham Mateo',\n",
       " 'Ace of Base',\n",
       " 'Achille Lauro',\n",
       " 'Action Bronson',\n",
       " 'Adam Lambert',\n",
       " 'Adam Levine',\n",
       " 'Adele',\n",
       " 'Ado',\n",
       " \"Adolescent's Orquesta\",\n",
       " 'Adriel Favela',\n",
       " 'Aerosmith',\n",
       " 'Afgan',\n",
       " 'Against The Current',\n",
       " 'Agnes Obel',\n",
       " 'AgroPlay',\n",
       " 'Agust D',\n",
       " 'Ahmet Kaya',\n",
       " 'Aimer',\n",
       " 'Aimyon',\n",
       " 'Air Supply',\n",
       " 'Aitana',\n",
       " 'Aitch',\n",
       " 'Ajaxx',\n",
       " 'Ak4:20',\n",
       " 'Akon',\n",
       " 'Al Green',\n",
       " 'Al James',\n",
       " 'Alabama',\n",
       " 'Alabama Shakes',\n",
       " 'Alan Gomez',\n",
       " 'Alan Jackson',\n",
       " 'Alan Menken',\n",
       " 'Alan Walker',\n",
       " 'Alanis Morissette',\n",
       " 'Aldo Trujillo',\n",
       " 'Alec Benjamin']"
      ]
     },
     "execution_count": 16,
     "metadata": {},
     "output_type": "execute_result"
    }
   ],
   "source": [
    "artists_spotify[:100]"
   ]
  },
  {
   "cell_type": "code",
   "execution_count": 40,
   "metadata": {},
   "outputs": [
    {
     "data": {
      "text/plain": [
       "5426"
      ]
     },
     "execution_count": 40,
     "metadata": {},
     "output_type": "execute_result"
    }
   ],
   "source": [
    "df_kaggle.artist_name.apply(lambda x: x.upper()).nunique()"
   ]
  },
  {
   "cell_type": "markdown",
   "metadata": {},
   "source": [
    "Check whether Spotify Artist name is case-sensitive"
   ]
  },
  {
   "cell_type": "code",
   "execution_count": 20,
   "metadata": {},
   "outputs": [],
   "source": [
    "df_spotify[\"artist_upper\"] = df_spotify.Artist.apply(lambda x: x.upper())"
   ]
  },
  {
   "cell_type": "code",
   "execution_count": 21,
   "metadata": {},
   "outputs": [
    {
     "data": {
      "text/plain": [
       "2997"
      ]
     },
     "execution_count": 21,
     "metadata": {},
     "output_type": "execute_result"
    }
   ],
   "source": [
    "df_spotify.artist_upper.nunique()"
   ]
  },
  {
   "cell_type": "code",
   "execution_count": 22,
   "metadata": {},
   "outputs": [
    {
     "data": {
      "text/plain": [
       "2998"
      ]
     },
     "execution_count": 22,
     "metadata": {},
     "output_type": "execute_result"
    }
   ],
   "source": [
    "df_spotify.Artist.nunique()"
   ]
  },
  {
   "cell_type": "markdown",
   "metadata": {},
   "source": [
    "Analyse the Duplicates and Case-sensitivity in Track name"
   ]
  },
  {
   "cell_type": "code",
   "execution_count": 23,
   "metadata": {},
   "outputs": [],
   "source": [
    "df_spotify[\"Song_title\"] = df_spotify[\"Song_title\"].astype(str)"
   ]
  },
  {
   "cell_type": "code",
   "execution_count": 24,
   "metadata": {},
   "outputs": [],
   "source": [
    "df_spotify[\"Song_title_upper\"] = df_spotify.Song_title.apply(lambda x: x.upper())"
   ]
  },
  {
   "cell_type": "code",
   "execution_count": 25,
   "metadata": {},
   "outputs": [
    {
     "data": {
      "text/plain": [
       "379535"
      ]
     },
     "execution_count": 25,
     "metadata": {},
     "output_type": "execute_result"
    }
   ],
   "source": [
    "df_spotify.Song_title.nunique()"
   ]
  },
  {
   "cell_type": "code",
   "execution_count": 26,
   "metadata": {},
   "outputs": [
    {
     "data": {
      "text/plain": [
       "369145"
      ]
     },
     "execution_count": 26,
     "metadata": {},
     "output_type": "execute_result"
    }
   ],
   "source": [
    "df_spotify.Song_title_upper.nunique()"
   ]
  },
  {
   "cell_type": "code",
   "execution_count": 27,
   "metadata": {},
   "outputs": [],
   "source": [
    "df_kaggle[\"track_name_upper\"] = df_kaggle.track_name.apply(lambda x: x.upper())"
   ]
  },
  {
   "cell_type": "code",
   "execution_count": 28,
   "metadata": {},
   "outputs": [
    {
     "data": {
      "text/plain": [
       "23689"
      ]
     },
     "execution_count": 28,
     "metadata": {},
     "output_type": "execute_result"
    }
   ],
   "source": [
    "df_kaggle.track_name.nunique()"
   ]
  },
  {
   "cell_type": "code",
   "execution_count": 29,
   "metadata": {},
   "outputs": [
    {
     "data": {
      "text/plain": [
       "23689"
      ]
     },
     "execution_count": 29,
     "metadata": {},
     "output_type": "execute_result"
    }
   ],
   "source": [
    "df_kaggle.track_name_upper.nunique()"
   ]
  },
  {
   "cell_type": "markdown",
   "metadata": {},
   "source": [
    "Compare Track names from both Datasets"
   ]
  },
  {
   "cell_type": "code",
   "execution_count": 30,
   "metadata": {},
   "outputs": [],
   "source": [
    "tracks_spotify = df_spotify.Song_title.unique().tolist()\n",
    "tracks_spotify.sort()"
   ]
  },
  {
   "cell_type": "code",
   "execution_count": 31,
   "metadata": {},
   "outputs": [],
   "source": [
    "tracks_kaggle = df_kaggle.track_name.unique().tolist()\n",
    "tracks_kaggle.sort()"
   ]
  },
  {
   "cell_type": "code",
   "execution_count": 44,
   "metadata": {},
   "outputs": [
    {
     "data": {
      "text/plain": [
       "['act of affection',\n",
       " 'acting up',\n",
       " 'action',\n",
       " 'action speaks louder than words',\n",
       " 'acuff-rose',\n",
       " 'ad a dglgmut',\n",
       " 'adagio',\n",
       " \"adam's song\",\n",
       " 'adaptable (anything for you)',\n",
       " 'add some music to your day',\n",
       " 'addicted to chaos',\n",
       " 'addicted to fame',\n",
       " 'addicted to love',\n",
       " 'addicted to spuds',\n",
       " 'addicted!',\n",
       " 'addiction',\n",
       " 'addis ababa',\n",
       " 'address unknown',\n",
       " 'adelaide',\n",
       " 'adeus',\n",
       " 'adios amigo',\n",
       " 'adolescent dream',\n",
       " 'adrenaline',\n",
       " 'adult diversion',\n",
       " 'advance romance',\n",
       " 'adventures in paradise',\n",
       " 'adversity',\n",
       " 'aero zeppelin',\n",
       " 'aeroplane',\n",
       " 'affirmation',\n",
       " 'afraid',\n",
       " 'afraid of love',\n",
       " 'afraid to shoot strangers',\n",
       " 'african dub',\n",
       " 'african queen',\n",
       " 'african race',\n",
       " 'african teacher',\n",
       " 'african woman',\n",
       " 'african zulu',\n",
       " 'afro',\n",
       " 'after all',\n",
       " \"after all the things i've done\",\n",
       " 'after all these years',\n",
       " 'after all this time',\n",
       " 'after awhile',\n",
       " 'after dark',\n",
       " 'after effects (from loving you)',\n",
       " 'after hanabi -listen to my beats-',\n",
       " 'after hours',\n",
       " 'after i fall']"
      ]
     },
     "execution_count": 44,
     "metadata": {},
     "output_type": "execute_result"
    }
   ],
   "source": [
    "tracks_kaggle[590:640]"
   ]
  },
  {
   "cell_type": "code",
   "execution_count": 43,
   "metadata": {},
   "outputs": [
    {
     "data": {
      "text/plain": [
       "['Adderall - Instrumental',\n",
       " 'Adderall - No Intro',\n",
       " 'Adderall - Rough Demo',\n",
       " 'Adderall Admiral',\n",
       " 'Addi Sunni',\n",
       " 'Addi Truth',\n",
       " 'Addict',\n",
       " 'Addict - International Bonus Track',\n",
       " 'Addict With A Pen',\n",
       " 'Addicted',\n",
       " 'Addicted (feat. Lil Baby)',\n",
       " 'Addicted - 2022 Remixed & Remastered',\n",
       " 'Addicted - Arless & jREM Remix',\n",
       " 'Addicted - Curol Remix',\n",
       " 'Addicted - Deficio Remix',\n",
       " 'Addicted - Drove Remix',\n",
       " 'Addicted - Dzeko Remix',\n",
       " 'Addicted - Extended',\n",
       " 'Addicted - Fernando Garibay Radio Edit',\n",
       " 'Addicted - Joel Corry Remix',\n",
       " 'Addicted - Live At Porchester Hall / 2007',\n",
       " 'Addicted - Live from California 2017',\n",
       " 'Addicted - Live from Dew Burning Van',\n",
       " 'Addicted - MTV Hard Rock Live',\n",
       " 'Addicted - Metro Mix',\n",
       " 'Addicted - Radio Edit',\n",
       " 'Addicted - Summer Mix Extended',\n",
       " 'Addicted - Summer Version',\n",
       " 'Addicted - Zerb Acid VIP',\n",
       " 'Addicted 2 (Keep Cool Remix) (feat. Bas)',\n",
       " 'Addicted 2 Money',\n",
       " 'Addicted To A Memory',\n",
       " \"Addicted To Ballin' (feat. ScHoolboy Q)\",\n",
       " 'Addicted To Chaos',\n",
       " 'Addicted To Chaos - Remastered 2004',\n",
       " 'Addicted To Love',\n",
       " 'Addicted To Love - Live at Camden Palace, London; 1994 Remastered Version',\n",
       " 'Addicted To Pain',\n",
       " 'Addicted To Power',\n",
       " 'Addicted To Rave']"
      ]
     },
     "execution_count": 43,
     "metadata": {},
     "output_type": "execute_result"
    }
   ],
   "source": [
    "tracks_spotify[12130:12170]"
   ]
  },
  {
   "cell_type": "code",
   "execution_count": null,
   "metadata": {},
   "outputs": [],
   "source": []
  }
 ],
 "metadata": {
  "kernelspec": {
   "display_name": "Python 3 (ipykernel)",
   "language": "python",
   "name": "python3"
  },
  "language_info": {
   "codemirror_mode": {
    "name": "ipython",
    "version": 3
   },
   "file_extension": ".py",
   "mimetype": "text/x-python",
   "name": "python",
   "nbconvert_exporter": "python",
   "pygments_lexer": "ipython3",
   "version": "3.10.12"
  }
 },
 "nbformat": 4,
 "nbformat_minor": 4
}
