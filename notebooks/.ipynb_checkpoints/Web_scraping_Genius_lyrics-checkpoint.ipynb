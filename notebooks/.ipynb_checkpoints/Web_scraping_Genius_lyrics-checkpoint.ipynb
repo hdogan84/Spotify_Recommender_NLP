{
 "cells": [
  {
   "cell_type": "markdown",
   "metadata": {},
   "source": [
    "Preiminary Web scraping script for lyrics from Genius.com. \n",
    "Needs to be imporved for other metadata and generalization"
   ]
  },
  {
   "cell_type": "code",
   "execution_count": 2,
   "metadata": {},
   "outputs": [],
   "source": [
    "from bs4 import BeautifulSoup as bs\n",
    "import requests "
   ]
  },
  {
   "cell_type": "code",
   "execution_count": 3,
   "metadata": {},
   "outputs": [],
   "source": [
    "url = \"https://genius.com/Ed-sheeran-shape-of-you-lyrics\"\n",
    "url = \"https://genius.com/Drake-one-dance-lyrics\"\n",
    "song_name = \"One Dance\" #case sensitive for now\n",
    "#url = \"https://genius.com/songs/all\"\n",
    "page = requests.get(url)\n",
    "soup = bs(page.content)\n",
    "#print(soup)"
   ]
  },
  {
   "cell_type": "code",
   "execution_count": 4,
   "metadata": {},
   "outputs": [],
   "source": [
    "divs = soup.find_all('div')[0]\n"
   ]
  },
  {
   "cell_type": "code",
   "execution_count": 5,
   "metadata": {},
   "outputs": [],
   "source": [
    "assert song_name in divs.text"
   ]
  },
  {
   "cell_type": "code",
   "execution_count": 6,
   "metadata": {},
   "outputs": [],
   "source": [
    "#for sect in divs.children:\n",
    "#    print(sect, \"\\n\")"
   ]
  },
  {
   "cell_type": "code",
   "execution_count": 8,
   "metadata": {},
   "outputs": [],
   "source": [
    "soup2 = bs(str(divs))\n",
    "#print(soup2)"
   ]
  },
  {
   "cell_type": "code",
   "execution_count": 9,
   "metadata": {},
   "outputs": [],
   "source": [
    "mymain = soup2.find_all('main')[0]"
   ]
  },
  {
   "cell_type": "code",
   "execution_count": 10,
   "metadata": {},
   "outputs": [],
   "source": [
    "assert song_name in mymain.text"
   ]
  },
  {
   "cell_type": "code",
   "execution_count": 11,
   "metadata": {},
   "outputs": [],
   "source": [
    "text1 = mymain.get_text(separator=\"\\n\")"
   ]
  },
  {
   "cell_type": "code",
   "execution_count": 12,
   "metadata": {},
   "outputs": [],
   "source": [
    "#print(text1)"
   ]
  },
  {
   "cell_type": "code",
   "execution_count": 13,
   "metadata": {},
   "outputs": [
    {
     "data": {
      "text/plain": [
       "'main'"
      ]
     },
     "execution_count": 13,
     "metadata": {},
     "output_type": "execute_result"
    }
   ],
   "source": [
    "mymain.name"
   ]
  },
  {
   "cell_type": "code",
   "execution_count": 14,
   "metadata": {},
   "outputs": [
    {
     "data": {
      "text/plain": [
       "{'class': ['SongPage__Container-sc-19xhmoi-0', 'buKnHw']}"
      ]
     },
     "execution_count": 14,
     "metadata": {},
     "output_type": "execute_result"
    }
   ],
   "source": [
    "mymain.attrs"
   ]
  },
  {
   "cell_type": "code",
   "execution_count": 17,
   "metadata": {},
   "outputs": [],
   "source": [
    "import re"
   ]
  },
  {
   "cell_type": "code",
   "execution_count": 18,
   "metadata": {},
   "outputs": [
    {
     "data": {
      "text/plain": [
       "'\\n[Refrain: Kyla]\\nBaby, I like your style\\n[Verse 1: Drake]\\nGrips on your waist, front way, back way\\nYou know that I don\\'t play\\nStreets not safe but I never run away\\nEven when I\\'m away\\nOti, oti\\nThere\\'s never much love when we go OT\\nI pray to make it back in one piece\\nI pray, I pray\\n[Chorus: Drake]\\nThat\\'s why I need a one dance\\nGot a Hennessy in my hand\\nOne more time \\'fore I go\\nHigher powers taking a hold on me\\nI need a one dance\\nGot a Hennessy in my hand\\nOne more time \\'fore I go\\nHigher powers taking a hold on me\\n[Refrain: Kyla]\\nBaby, I like your style\\nYou might also like\\n[Verse 2: Drake]\\nStrength and guidance\\nAll that I\\'m wishing for my friends\\nNobody makes it from my ends\\nI had to bust up the silence\\nYou know you gotta stick by me\\nSoon as you see the text, reply me\\nI don\\'t wanna spend time fighting\\nWe\\'ve got no time, and that\\'s why\\n[Chorus: Drake]\\nI need a one dance\\nGot a Hennessy in my hand\\nOne more time \\'fore I go\\nHigher powers taking a hold on me\\nI need a one dance\\nGot a Hennessy in my hand\\nOne more time \\'fore I go\\nHigher powers taking a hold on me\\n[Post-Chorus: Wizkid]\\nGot a pretty girl and she love me long time\\nFine like a wine, she love me long time\\nOh, yeah, very long time\\nBack up, back up, back up, and whine it\\nBack up, back up, and whine it\\nGirl, just back up, back up, back up, and whine, girl\\nOh, yes, steady and fine\\nBack, up, back up and whine it, mm\\n[Bridge: Kyla]\\nOh, tell me, I need to know\\nWhere do you wanna go?\\n\\'Cause if you\\'re down, I\\'ll take it slow\\nMake you lose control\\n[Breakdown: Kyla & \\nWizkid\\n]\\nWhere, where, where\\nWhere, where, where, where \\n(\\nOh, yeah, very long time\\n)\\nWhere, where, where \\n(\\nBack up, back up, and wine am, girl\\n)\\nWhere, where, where, where\\n\\'Cause if you\\'re down \\n(\\nBack up, back up, and–\\n)\\n\\'Cause if you\\'re down \\n(\\nBack up, back up, and–\\n)\\n\\'Cause if you\\'re down \\n(\\nBack up, back up, and–\\n)\\n[Chorus: Drake & \\nKyla\\n]\\nI need a one dance (\\nWhere, where, where\\n)\\nGot a Hennessy in my hand (\\nWhere, where, where, where\\n)\\nOne more time \\'fore I go (\\nWhere\\n)\\nHigher powers taking a hold on me (\\nWhere, where, where, where\\n)\\nI need a one dance\\nGot a Hennessy in my hand\\nOne more time \\'fore I go\\nHigher powers taking a hold on me\\n[Outro]\\nHow do you spell \"Hennessy?\"\\nI put two \"N\"s and two \"S\"es, is it like that? Hen... Henn... Henn...\\nIt\\'s definitely not showing up\\nI know \"Hennessy\" has two \"S\"es for sure, so I\\'m gonna take out one of the \"N\"s\\n236\\n'"
      ]
     },
     "execution_count": 18,
     "metadata": {},
     "output_type": "execute_result"
    }
   ],
   "source": [
    "keyword1 = song_name + \" Lyrics\"\n",
    "keyword2 = \"Embed\"\n",
    "\n",
    "# Use a regular expression to find the text between the two keywords\n",
    "pattern = f'{re.escape(keyword1)}(.*?){re.escape(keyword2)}'\n",
    "\n",
    "# Find all matches in the text\n",
    "lyrics = re.findall(pattern, text1, re.DOTALL)[0]\n",
    "\n",
    "lyrics"
   ]
  },
  {
   "cell_type": "code",
   "execution_count": 20,
   "metadata": {},
   "outputs": [],
   "source": [
    "with open(\"Genius \" +song_name + \" lyrics.txt\", \"w\") as file:\n",
    "    file.write(lyrics)"
   ]
  },
  {
   "cell_type": "code",
   "execution_count": null,
   "metadata": {},
   "outputs": [],
   "source": []
  }
 ],
 "metadata": {
  "kernelspec": {
   "display_name": "Python 3 (ipykernel)",
   "language": "python",
   "name": "python3"
  },
  "language_info": {
   "codemirror_mode": {
    "name": "ipython",
    "version": 3
   },
   "file_extension": ".py",
   "mimetype": "text/x-python",
   "name": "python",
   "nbconvert_exporter": "python",
   "pygments_lexer": "ipython3",
   "version": "3.10.12"
  }
 },
 "nbformat": 4,
 "nbformat_minor": 4
}
