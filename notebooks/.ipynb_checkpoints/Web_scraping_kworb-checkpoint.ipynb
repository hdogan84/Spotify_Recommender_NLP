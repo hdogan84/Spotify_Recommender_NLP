{
 "cells": [
  {
   "cell_type": "code",
   "execution_count": 1,
   "metadata": {},
   "outputs": [],
   "source": [
    "from bs4 import BeautifulSoup as bs\n",
    "import requests \n",
    "import pandas as pd\n",
    "from urllib.parse import urljoin"
   ]
  },
  {
   "cell_type": "code",
   "execution_count": 2,
   "metadata": {},
   "outputs": [],
   "source": [
    "url_kworb = \"https://kworb.net/spotify/artists.html\"\n",
    "\n",
    "page = requests.get(url_kworb)\n"
   ]
  },
  {
   "cell_type": "code",
   "execution_count": 4,
   "metadata": {},
   "outputs": [
    {
     "data": {
      "text/plain": [
       "['<!DOCTYPE html>',\n",
       " '<html lang=\"en\">',\n",
       " ' <head>',\n",
       " '  <title>',\n",
       " '   Spotify Most Streamed Artists of All Time',\n",
       " '  </title>',\n",
       " '  <link href=\"/css/standard0002.css\" rel=\"stylesheet\" type=\"text/css\"/>',\n",
       " '  <link href=\"/css/tables0010.css\" rel=\"stylesheet\" type=\"text/css\"/>',\n",
       " '  <link href=\"/css/menus0001.css\" rel=\"stylesheet\" type=\"text/css\"/>',\n",
       " '  <meta content=\"text/html; charset=utf-8\" http-equiv=\"Content-Type\"/>']"
      ]
     },
     "execution_count": 4,
     "metadata": {},
     "output_type": "execute_result"
    }
   ],
   "source": [
    "soup = bs(page.content)\n",
    "soup.prettify().splitlines()[:10]"
   ]
  },
  {
   "cell_type": "code",
   "execution_count": 5,
   "metadata": {},
   "outputs": [],
   "source": [
    "tags = soup.find_all(True)"
   ]
  },
  {
   "cell_type": "code",
   "execution_count": 6,
   "metadata": {},
   "outputs": [
    {
     "name": "stdout",
     "output_type": "stream",
     "text": [
      "0\n",
      "1\n",
      "2\n",
      "14\n",
      "15\n",
      "38\n",
      "39\n",
      "42\n",
      "43\n",
      "52\n",
      "58\n",
      "67\n",
      "68\n",
      "69\n"
     ]
    }
   ],
   "source": [
    "for i, tag in enumerate(tags):\n",
    "    if \"Artist\" in tag.text:\n",
    "        print(i)"
   ]
  },
  {
   "cell_type": "code",
   "execution_count": 7,
   "metadata": {},
   "outputs": [
    {
     "data": {
      "text/plain": [
       "['',\n",
       " '',\n",
       " '',\n",
       " '',\n",
       " '',\n",
       " '',\n",
       " '',\n",
       " '',\n",
       " '',\n",
       " '',\n",
       " 'Artist',\n",
       " 'Streams',\n",
       " 'Daily',\n",
       " 'As lead',\n",
       " 'Solo',\n",
       " 'As feature',\n",
       " '',\n",
       " '',\n",
       " 'Drake',\n",
       " '102,897.7',\n",
       " '42.741',\n",
       " '70,393.6',\n",
       " '38,869.9',\n",
       " '32,504.1',\n",
       " '',\n",
       " 'Taylor Swift',\n",
       " '90,077.1',\n",
       " '67.256',\n",
       " '87,230.7',\n",
       " '79,636.1']"
      ]
     },
     "execution_count": 7,
     "metadata": {},
     "output_type": "execute_result"
    }
   ],
   "source": [
    "elem = tags[58]\n",
    "elem.get_text().splitlines()[:30]"
   ]
  },
  {
   "cell_type": "code",
   "execution_count": 8,
   "metadata": {},
   "outputs": [
    {
     "name": "stdout",
     "output_type": "stream",
     "text": [
      "<class 'bs4.element.NavigableString'> \n",
      "\n",
      "<class 'bs4.element.Tag'> \n",
      "\n",
      "<class 'bs4.element.Tag'> \n",
      "\n",
      "<class 'bs4.element.Tag'> \n",
      "\n"
     ]
    }
   ],
   "source": [
    "for i, sect in enumerate(elem.children):\n",
    "    #print(i)\n",
    "    print(type(sect), \"\\n\")\n",
    "    #print(sect.text)"
   ]
  },
  {
   "cell_type": "code",
   "execution_count": 9,
   "metadata": {},
   "outputs": [],
   "source": [
    "item = list(elem.children)[3]"
   ]
  },
  {
   "cell_type": "code",
   "execution_count": 11,
   "metadata": {},
   "outputs": [
    {
     "data": {
      "text/plain": [
       "['',\n",
       " '',\n",
       " 'Drake',\n",
       " '102,897.7',\n",
       " '42.741',\n",
       " '70,393.6',\n",
       " '38,869.9',\n",
       " '32,504.1',\n",
       " '',\n",
       " 'Taylor Swift',\n",
       " '90,077.1',\n",
       " '67.256',\n",
       " '87,230.7',\n",
       " '79,636.1',\n",
       " '2,846.5']"
      ]
     },
     "execution_count": 11,
     "metadata": {},
     "output_type": "execute_result"
    }
   ],
   "source": [
    "item.text.splitlines()[:15]"
   ]
  },
  {
   "cell_type": "code",
   "execution_count": 45,
   "metadata": {},
   "outputs": [],
   "source": [
    "#print(item)"
   ]
  },
  {
   "cell_type": "code",
   "execution_count": 12,
   "metadata": {},
   "outputs": [],
   "source": [
    "artists = soup.find_all(\"td\", attrs= {\"class\" : \"text\"})"
   ]
  },
  {
   "cell_type": "code",
   "execution_count": 13,
   "metadata": {},
   "outputs": [
    {
     "data": {
      "text/plain": [
       "3000"
      ]
     },
     "execution_count": 13,
     "metadata": {},
     "output_type": "execute_result"
    }
   ],
   "source": [
    "len(artists)"
   ]
  },
  {
   "cell_type": "code",
   "execution_count": 14,
   "metadata": {},
   "outputs": [
    {
     "data": {
      "text/plain": [
       "'Drake'"
      ]
     },
     "execution_count": 14,
     "metadata": {},
     "output_type": "execute_result"
    }
   ],
   "source": [
    "artists[0].text"
   ]
  },
  {
   "cell_type": "code",
   "execution_count": 15,
   "metadata": {},
   "outputs": [],
   "source": [
    "df_artists = pd.DataFrame(columns=[\"Artist\", \"url_songs\"])"
   ]
  },
  {
   "cell_type": "code",
   "execution_count": 16,
   "metadata": {},
   "outputs": [
    {
     "data": {
      "text/plain": [
       "'/spotify/artist/3TVXtAsR1Inumwj472S9r4_songs.html'"
      ]
     },
     "execution_count": 16,
     "metadata": {},
     "output_type": "execute_result"
    }
   ],
   "source": [
    "link_tag = bs(str(artists[0])).find('a', href=True)\n",
    "href = link_tag[\"href\"]\n",
    "href"
   ]
  },
  {
   "cell_type": "code",
   "execution_count": 17,
   "metadata": {},
   "outputs": [
    {
     "data": {
      "text/plain": [
       "'https://kworb.net/spotify/artist/3TVXtAsR1Inumwj472S9r4_songs.html'"
      ]
     },
     "execution_count": 17,
     "metadata": {},
     "output_type": "execute_result"
    }
   ],
   "source": [
    "full_url = urljoin(url_kworb, href)\n",
    "full_url"
   ]
  },
  {
   "cell_type": "code",
   "execution_count": 18,
   "metadata": {},
   "outputs": [],
   "source": [
    "for i in range(len(artists)):\n",
    "    df_artists.at[i,\"Artist\"] = artists[i].text\n",
    "    link_tag = bs(str(artists[i])).find('a', href=True)\n",
    "    href = link_tag[\"href\"]\n",
    "    df_artists.at[i, \"url_songs\"] = urljoin(url_kworb, href)"
   ]
  },
  {
   "cell_type": "code",
   "execution_count": 19,
   "metadata": {},
   "outputs": [
    {
     "data": {
      "text/html": [
       "<div>\n",
       "<style scoped>\n",
       "    .dataframe tbody tr th:only-of-type {\n",
       "        vertical-align: middle;\n",
       "    }\n",
       "\n",
       "    .dataframe tbody tr th {\n",
       "        vertical-align: top;\n",
       "    }\n",
       "\n",
       "    .dataframe thead th {\n",
       "        text-align: right;\n",
       "    }\n",
       "</style>\n",
       "<table border=\"1\" class=\"dataframe\">\n",
       "  <thead>\n",
       "    <tr style=\"text-align: right;\">\n",
       "      <th></th>\n",
       "      <th>Artist</th>\n",
       "      <th>url_songs</th>\n",
       "    </tr>\n",
       "  </thead>\n",
       "  <tbody>\n",
       "    <tr>\n",
       "      <th>0</th>\n",
       "      <td>Drake</td>\n",
       "      <td>https://kworb.net/spotify/artist/3TVXtAsR1Inum...</td>\n",
       "    </tr>\n",
       "    <tr>\n",
       "      <th>1</th>\n",
       "      <td>Taylor Swift</td>\n",
       "      <td>https://kworb.net/spotify/artist/06HL4z0CvFAxy...</td>\n",
       "    </tr>\n",
       "    <tr>\n",
       "      <th>2</th>\n",
       "      <td>Bad Bunny</td>\n",
       "      <td>https://kworb.net/spotify/artist/4q3ewBCX7sLwd...</td>\n",
       "    </tr>\n",
       "    <tr>\n",
       "      <th>3</th>\n",
       "      <td>The Weeknd</td>\n",
       "      <td>https://kworb.net/spotify/artist/1Xyo4u8uXC1Zm...</td>\n",
       "    </tr>\n",
       "    <tr>\n",
       "      <th>4</th>\n",
       "      <td>Ed Sheeran</td>\n",
       "      <td>https://kworb.net/spotify/artist/6eUKZXaKkcviH...</td>\n",
       "    </tr>\n",
       "    <tr>\n",
       "      <th>5</th>\n",
       "      <td>Justin Bieber</td>\n",
       "      <td>https://kworb.net/spotify/artist/1uNFoZAHBGtll...</td>\n",
       "    </tr>\n",
       "    <tr>\n",
       "      <th>6</th>\n",
       "      <td>Eminem</td>\n",
       "      <td>https://kworb.net/spotify/artist/7dGJo4pcD2V6o...</td>\n",
       "    </tr>\n",
       "    <tr>\n",
       "      <th>7</th>\n",
       "      <td>Ariana Grande</td>\n",
       "      <td>https://kworb.net/spotify/artist/66CXWjxzNUsdJ...</td>\n",
       "    </tr>\n",
       "    <tr>\n",
       "      <th>8</th>\n",
       "      <td>Travis Scott</td>\n",
       "      <td>https://kworb.net/spotify/artist/0Y5tJX1MQlPlq...</td>\n",
       "    </tr>\n",
       "    <tr>\n",
       "      <th>9</th>\n",
       "      <td>Kanye West</td>\n",
       "      <td>https://kworb.net/spotify/artist/5K4W6rqBFWDnA...</td>\n",
       "    </tr>\n",
       "    <tr>\n",
       "      <th>10</th>\n",
       "      <td>Post Malone</td>\n",
       "      <td>https://kworb.net/spotify/artist/246dkjvS1zLTt...</td>\n",
       "    </tr>\n",
       "    <tr>\n",
       "      <th>11</th>\n",
       "      <td>Rihanna</td>\n",
       "      <td>https://kworb.net/spotify/artist/5pKCCKE2ajJHZ...</td>\n",
       "    </tr>\n",
       "    <tr>\n",
       "      <th>12</th>\n",
       "      <td>J Balvin</td>\n",
       "      <td>https://kworb.net/spotify/artist/1vyhD5VmyZ7KM...</td>\n",
       "    </tr>\n",
       "    <tr>\n",
       "      <th>13</th>\n",
       "      <td>BTS</td>\n",
       "      <td>https://kworb.net/spotify/artist/3Nrfpe0tUJi4K...</td>\n",
       "    </tr>\n",
       "    <tr>\n",
       "      <th>14</th>\n",
       "      <td>Future</td>\n",
       "      <td>https://kworb.net/spotify/artist/1RyvyyTE3xzB2...</td>\n",
       "    </tr>\n",
       "    <tr>\n",
       "      <th>15</th>\n",
       "      <td>Billie Eilish</td>\n",
       "      <td>https://kworb.net/spotify/artist/6qqNVTkY8uBg9...</td>\n",
       "    </tr>\n",
       "    <tr>\n",
       "      <th>16</th>\n",
       "      <td>Kendrick Lamar</td>\n",
       "      <td>https://kworb.net/spotify/artist/2YZyLoL8N0Wb9...</td>\n",
       "    </tr>\n",
       "    <tr>\n",
       "      <th>17</th>\n",
       "      <td>Ozuna</td>\n",
       "      <td>https://kworb.net/spotify/artist/1i8SpTcr7yvPO...</td>\n",
       "    </tr>\n",
       "    <tr>\n",
       "      <th>18</th>\n",
       "      <td>Juice WRLD</td>\n",
       "      <td>https://kworb.net/spotify/artist/4MCBfE4596Uoi...</td>\n",
       "    </tr>\n",
       "    <tr>\n",
       "      <th>19</th>\n",
       "      <td>Nicki Minaj</td>\n",
       "      <td>https://kworb.net/spotify/artist/0hCNtLu0Jehyl...</td>\n",
       "    </tr>\n",
       "  </tbody>\n",
       "</table>\n",
       "</div>"
      ],
      "text/plain": [
       "            Artist                                          url_songs\n",
       "0            Drake  https://kworb.net/spotify/artist/3TVXtAsR1Inum...\n",
       "1     Taylor Swift  https://kworb.net/spotify/artist/06HL4z0CvFAxy...\n",
       "2        Bad Bunny  https://kworb.net/spotify/artist/4q3ewBCX7sLwd...\n",
       "3       The Weeknd  https://kworb.net/spotify/artist/1Xyo4u8uXC1Zm...\n",
       "4       Ed Sheeran  https://kworb.net/spotify/artist/6eUKZXaKkcviH...\n",
       "5    Justin Bieber  https://kworb.net/spotify/artist/1uNFoZAHBGtll...\n",
       "6           Eminem  https://kworb.net/spotify/artist/7dGJo4pcD2V6o...\n",
       "7    Ariana Grande  https://kworb.net/spotify/artist/66CXWjxzNUsdJ...\n",
       "8     Travis Scott  https://kworb.net/spotify/artist/0Y5tJX1MQlPlq...\n",
       "9       Kanye West  https://kworb.net/spotify/artist/5K4W6rqBFWDnA...\n",
       "10     Post Malone  https://kworb.net/spotify/artist/246dkjvS1zLTt...\n",
       "11         Rihanna  https://kworb.net/spotify/artist/5pKCCKE2ajJHZ...\n",
       "12        J Balvin  https://kworb.net/spotify/artist/1vyhD5VmyZ7KM...\n",
       "13             BTS  https://kworb.net/spotify/artist/3Nrfpe0tUJi4K...\n",
       "14          Future  https://kworb.net/spotify/artist/1RyvyyTE3xzB2...\n",
       "15   Billie Eilish  https://kworb.net/spotify/artist/6qqNVTkY8uBg9...\n",
       "16  Kendrick Lamar  https://kworb.net/spotify/artist/2YZyLoL8N0Wb9...\n",
       "17           Ozuna  https://kworb.net/spotify/artist/1i8SpTcr7yvPO...\n",
       "18      Juice WRLD  https://kworb.net/spotify/artist/4MCBfE4596Uoi...\n",
       "19     Nicki Minaj  https://kworb.net/spotify/artist/0hCNtLu0Jehyl..."
      ]
     },
     "execution_count": 19,
     "metadata": {},
     "output_type": "execute_result"
    }
   ],
   "source": [
    "df_artists.head(20)"
   ]
  },
  {
   "cell_type": "code",
   "execution_count": null,
   "metadata": {},
   "outputs": [],
   "source": []
  },
  {
   "cell_type": "code",
   "execution_count": 20,
   "metadata": {},
   "outputs": [],
   "source": [
    "df_artists.to_csv(\"../data/spotify_top_3000_artists.csv\")"
   ]
  },
  {
   "cell_type": "code",
   "execution_count": null,
   "metadata": {},
   "outputs": [],
   "source": []
  }
 ],
 "metadata": {
  "kernelspec": {
   "display_name": "Python 3 (ipykernel)",
   "language": "python",
   "name": "python3"
  },
  "language_info": {
   "codemirror_mode": {
    "name": "ipython",
    "version": 3
   },
   "file_extension": ".py",
   "mimetype": "text/x-python",
   "name": "python",
   "nbconvert_exporter": "python",
   "pygments_lexer": "ipython3",
   "version": "3.10.12"
  }
 },
 "nbformat": 4,
 "nbformat_minor": 4
}
